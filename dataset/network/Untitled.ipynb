{
 "cells": [
  {
   "cell_type": "code",
   "execution_count": 5,
   "id": "a34265c1",
   "metadata": {},
   "outputs": [],
   "source": [
    "import re\n",
    "\n",
    "def clean_restaurant_names(file_path, output_path):\n",
    "    with open(file_path, 'r', encoding='utf-8') as file:\n",
    "        lines = file.readlines()\n",
    "    \n",
    "    cleaned_lines = []\n",
    "    \n",
    "    for line in lines:\n",
    "        parts = line.strip().split('\\t')\n",
    "        if len(parts) >= 3:\n",
    "            # 去掉第三个属性中的 `\\'`、`'`、`‘`、`’` 和 反引号 `\n",
    "            cleaned_name = re.sub(r\"[\\'\\\\‘’`]\", \"\", parts[2])\n",
    "            parts[2] = cleaned_name\n",
    "            cleaned_lines.append('\\t'.join(parts))\n",
    "    \n",
    "    # 写入处理后的内容到新文件\n",
    "    with open(output_path, 'w', encoding='utf-8') as file:\n",
    "        for cleaned_line in cleaned_lines:\n",
    "            file.write(cleaned_line + '\\n')\n",
    "\n",
    "# 使用该函数\n",
    "clean_restaurant_names('restaurant.txt', 'restaurant.txt')\n"
   ]
  },
  {
   "cell_type": "code",
   "execution_count": 13,
   "id": "527a080f",
   "metadata": {},
   "outputs": [],
   "source": [
    "import re\n",
    "\n",
    "def clean_restaurant_names(file_path, output_path):\n",
    "    with open(file_path, 'r', encoding='utf-8') as file:\n",
    "        lines = file.readlines()\n",
    "    \n",
    "    cleaned_lines = []\n",
    "    \n",
    "    for line in lines:\n",
    "        parts = line.strip().split('\\t')\n",
    "        if len(parts) >= 3:\n",
    "            # 去掉第三个属性中的 `\\'`、`'`、`‘`、`’` 和 反引号 `\n",
    "            cleaned_name = re.sub(r\"[\\'\\\\‘.’`]\", \"\", parts[2])\n",
    "            # 移除多余的空格，使单词之间只有一个空格，并去掉首尾空格\n",
    "            cleaned_name = re.sub(r'\\s+', ' ', cleaned_name).strip()\n",
    "            parts[2] = cleaned_name\n",
    "            cleaned_lines.append('\\t'.join(parts))\n",
    "    \n",
    "    # 写入处理后的内容到新文件\n",
    "    with open(output_path, 'w', encoding='utf-8') as file:\n",
    "        for cleaned_line in cleaned_lines:\n",
    "            file.write(cleaned_line + '\\n')\n",
    "\n",
    "# 使用该函数\n",
    "clean_restaurant_names('address.txt', 'address.txt')\n"
   ]
  },
  {
   "cell_type": "code",
   "execution_count": 12,
   "id": "7724650f",
   "metadata": {},
   "outputs": [],
   "source": [
    "import re\n",
    "\n",
    "def clean_restaurant_names(file_path, output_path):\n",
    "    with open(file_path, 'r', encoding='utf-8') as file:\n",
    "        lines = file.readlines()\n",
    "    \n",
    "    cleaned_lines = []\n",
    "    \n",
    "    for line in lines:\n",
    "        parts = line.strip().split('\\t')\n",
    "        if len(parts) >= 3:\n",
    "            # 去掉第三个属性中的 `\\'`、`'`、`‘`、`’` 和反引号 ` 以及单词 cafe 和 s\n",
    "            cleaned_name = re.sub(r\"[\\'\\\\‘’`]\", \"\", parts[2])\n",
    "            # 移除 \"cafe\" 和单独的 \"s\"（使用\\b表示单词边界）\n",
    "            cleaned_name = re.sub(r\"\\bcafe\\b\", \"\", cleaned_name, flags=re.IGNORECASE)  # 忽略大小写\n",
    "            cleaned_name = re.sub(r\"\\bs\\b\", \"\", cleaned_name)\n",
    "            cleaned_name = re.sub(r\"\\bclub\\b\", \"\", cleaned_name)\n",
    "            # 移除多余的空格，使单词之间只有一个空格，并去掉首尾空格\n",
    "            cleaned_name = re.sub(r'\\s+', ' ', cleaned_name).strip()\n",
    "            parts[2] = cleaned_name\n",
    "            cleaned_lines.append('\\t'.join(parts))\n",
    "    \n",
    "    # 写入处理后的内容到新文件\n",
    "    with open(output_path, 'w', encoding='utf-8') as file:\n",
    "        for cleaned_line in cleaned_lines:\n",
    "            file.write(cleaned_line + '\\n')\n",
    "\n",
    "# 使用该函数\n",
    "clean_restaurant_names('address.txt', 'address.txt')\n"
   ]
  },
  {
   "cell_type": "code",
   "execution_count": 15,
   "id": "70729b8d",
   "metadata": {},
   "outputs": [
    {
     "data": {
      "text/plain": [
       "0.6428571428571429"
      ]
     },
     "execution_count": 15,
     "metadata": {},
     "output_type": "execute_result"
    }
   ],
   "source": [
    "27/42"
   ]
  },
  {
   "cell_type": "code",
   "execution_count": null,
   "id": "9a7d7adf",
   "metadata": {},
   "outputs": [],
   "source": []
  }
 ],
 "metadata": {
  "kernelspec": {
   "display_name": "Python 3 (ipykernel)",
   "language": "python",
   "name": "python3"
  },
  "language_info": {
   "codemirror_mode": {
    "name": "ipython",
    "version": 3
   },
   "file_extension": ".py",
   "mimetype": "text/x-python",
   "name": "python",
   "nbconvert_exporter": "python",
   "pygments_lexer": "ipython3",
   "version": "3.10.9"
  }
 },
 "nbformat": 4,
 "nbformat_minor": 5
}
