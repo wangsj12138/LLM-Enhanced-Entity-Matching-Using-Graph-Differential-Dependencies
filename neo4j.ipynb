{
 "cells": [
  {
   "cell_type": "code",
   "execution_count": null,
   "id": "initial_id",
   "metadata": {
    "collapsed": true
   },
   "outputs": [],
   "source": []
  },
  {
   "cell_type": "markdown",
   "source": [],
   "metadata": {
    "collapsed": false
   },
   "id": "b3a948416793fec4"
  },
  {
   "cell_type": "code",
   "outputs": [],
   "source": [],
   "metadata": {
    "collapsed": false,
    "ExecuteTime": {
     "end_time": "2024-08-08T14:43:07.043325600Z",
     "start_time": "2024-08-08T14:43:04.409838600Z"
    }
   },
   "id": "ccfa06450766ac36",
   "execution_count": 1
  },
  {
   "cell_type": "code",
   "outputs": [],
   "source": [
    "from py2neo import Graph, Node\n",
    "import networkx as nx\n",
    "import matplotlib.pyplot as plt\n"
   ],
   "metadata": {
    "collapsed": false,
    "ExecuteTime": {
     "end_time": "2024-10-10T16:57:00.488015Z",
     "start_time": "2024-10-10T16:56:57.975886600Z"
    }
   },
   "id": "b63639e620adaa3f",
   "execution_count": 1
  },
  {
   "cell_type": "code",
   "outputs": [],
   "source": [
    "graph = Graph(\"****\", auth=(\"****\", \"****\"))\n"
   ],
   "metadata": {
    "collapsed": false,
    "ExecuteTime": {
     "end_time": "2024-10-10T16:57:10.615056200Z",
     "start_time": "2024-10-10T16:57:10.580900900Z"
    }
   },
   "id": "44193b011fd261c9",
   "execution_count": 2
  },
  {
   "cell_type": "code",
   "outputs": [],
   "source": [
    "\n",
    "graph.run(\"MATCH (n) DETACH DELETE n\")\n",
    "\n",
    "print(\"All nodes and edges are deleted.\")"
   ],
   "metadata": {
    "collapsed": false,
    "ExecuteTime": {
     "end_time": "2025-04-09T09:30:37.847638500Z",
     "start_time": "2025-04-09T09:30:37.722142100Z"
    }
   },
   "id": "10dfd29a3c22bde",
   "execution_count": null
  },
  {
   "cell_type": "code",
   "outputs": [],
   "source": [
    "\n",
    "addresses = []\n",
    "with open(r'E:\\ODER-code\\FZ-ODER\\dataset\\network\\address.txt', 'r', encoding='utf-8') as file:\n",
    "    for line in file:\n",
    "        parts = line.strip().split('\\t')\n",
    "        address_id = parts[0]\n",
    "        address_label = parts[1]\n",
    "        address_value = parts[2]\n",
    "        addresses.append((address_id, address_label, address_value))\n",
    "\n",
    "for address_id, address_label, address_value in addresses:\n",
    "    node = Node(\"Address\", id=address_id, label=address_label, value=address_value)\n",
    "    graph.create(node)\n"
   ],
   "metadata": {
    "collapsed": false,
    "ExecuteTime": {
     "end_time": "2025-04-09T09:31:18.500278900Z",
     "start_time": "2025-04-09T09:31:18.459848100Z"
    }
   },
   "id": "69dfb289b711a820",
   "execution_count": null
  },
  {
   "cell_type": "code",
   "outputs": [],
   "source": [
    "\n",
    "# 读取 city.txt 文件\n",
    "cities = []\n",
    "with open(r'E:\\ODER-code\\FZ-ODER\\dataset/network/city.txt', 'r', encoding='utf-8') as file:\n",
    "    for line in file:\n",
    "        parts = line.strip().split('\\t')\n",
    "        city_id = parts[0]\n",
    "        city_label = parts[1]\n",
    "        city_value = parts[2]\n",
    "        cities.append((city_id, city_label, city_value))\n",
    "\n",
    "for city_id, city_label, city_value in cities:\n",
    "    node = Node(\"City\", id=city_id, label=city_label, value=city_value)\n",
    "    graph.create(node)\n",
    "\n"
   ],
   "metadata": {
    "collapsed": false,
    "ExecuteTime": {
     "end_time": "2025-04-09T09:31:12.358822300Z",
     "start_time": "2025-04-09T09:31:12.310486900Z"
    }
   },
   "id": "9bf7613fea693a77",
   "execution_count": null
  },
  {
   "cell_type": "code",
   "outputs": [],
   "source": [
    "\n",
    "# 读取 restaurant.txt 文件\n",
    "restaurants = []\n",
    "with open(r'E:\\ODER-code\\FZ-ODER\\dataset/network/restaurant.txt', 'r', encoding='utf-8') as file:\n",
    "    for line in file:\n",
    "        parts = line.strip().split('\\t')\n",
    "        restaurant_id = parts[0]\n",
    "        restaurant_label = parts[1]\n",
    "        restaurant_name = parts[2]\n",
    "        restaurant_phone = parts[3]\n",
    "        restaurant_cuisine = parts[4]\n",
    "        restaurants.append((restaurant_id, restaurant_label, restaurant_name, restaurant_phone, restaurant_cuisine))\n",
    "\n",
    "# 将餐馆节点插入到 Neo4j 数据库\n",
    "for restaurant_id, restaurant_label, restaurant_name, restaurant_phone, restaurant_cuisine in restaurants:\n",
    "    node = Node(\"Restaurant\", id=restaurant_id, label=restaurant_label, name=restaurant_name, phone=restaurant_phone, cuisine=restaurant_cuisine)\n",
    "    graph.create(node)\n"
   ],
   "metadata": {
    "collapsed": false,
    "ExecuteTime": {
     "end_time": "2025-04-09T09:31:32.749805500Z",
     "start_time": "2025-04-09T09:31:32.687037600Z"
    }
   },
   "id": "d6c30f2dd81a5313",
   "execution_count": null
  },
  {
   "cell_type": "code",
   "outputs": [],
   "source": [
    "# 读取 address-city.txt 文件并添加边到 Neo4j 数据库\n",
    "with open(r'E:\\ODER-code\\FZ-ODER\\dataset/network/address-city.txt', 'r', encoding='utf-8') as file:\n",
    "    for line in file:\n",
    "        parts = line.strip().split('\\t')\n",
    "        address_id = parts[0]\n",
    "        city_id = parts[1]\n",
    "        query = f\"\"\"\n",
    "        MATCH (a:Address {{id: '{address_id}'}}), (c:City {{id: '{city_id}'}})\n",
    "        CREATE (a)-[:IN_CITY]->(c)\n",
    "        \"\"\"\n",
    "        graph.run(query)"
   ],
   "metadata": {
    "collapsed": false,
    "ExecuteTime": {
     "end_time": "2025-04-09T09:31:42.327888700Z",
     "start_time": "2025-04-09T09:31:42.280933100Z"
    }
   },
   "id": "f1f0807a03b807e0",
   "execution_count": null
  },
  {
   "cell_type": "code",
   "outputs": [],
   "source": [
    "# 读取 restaurant-address.txt 文件并添加边到 Neo4j 数据库\n",
    "with open(r'E:\\ODER-code\\FZ-ODER\\dataset/network/restaurant-address.txt', 'r', encoding='utf-8') as file:\n",
    "    for line in file:\n",
    "        parts = line.strip().split('\\t')\n",
    "        restaurant_id = parts[0]\n",
    "        address_id = parts[1]\n",
    "        query = f\"\"\"\n",
    "        MATCH (r:Restaurant {{id: '{restaurant_id}'}}), (a:Address {{id: '{address_id}'}})\n",
    "        CREATE (r)-[:LOCATED_AT]->(a)\n",
    "        \"\"\"\n",
    "        graph.run(query)\n"
   ],
   "metadata": {
    "collapsed": false,
    "ExecuteTime": {
     "end_time": "2024-10-10T18:56:02.723491100Z",
     "start_time": "2024-10-10T18:56:02.707965800Z"
    }
   },
   "id": "55911ee8d86f463f",
   "execution_count": 28
  },
  {
   "cell_type": "code",
   "outputs": [],
   "source": [],
   "metadata": {
    "collapsed": false,
    "ExecuteTime": {
     "end_time": "2025-04-09T09:31:56.941397700Z",
     "start_time": "2025-04-09T09:31:56.903349500Z"
    }
   },
   "id": "23c126e90fec6874",
   "execution_count": null
  },
  {
   "cell_type": "code",
   "outputs": [],
   "source": [],
   "metadata": {
    "collapsed": false,
    "ExecuteTime": {
     "end_time": "2025-04-09T09:32:13.215729100Z",
     "start_time": "2025-04-09T09:32:13.178609100Z"
    }
   },
   "id": "aac679bba60cc0aa",
   "execution_count": null
  },
  {
   "cell_type": "code",
   "outputs": [],
   "source": [],
   "metadata": {
    "collapsed": false,
    "ExecuteTime": {
     "start_time": "2024-09-17T07:35:11.002859300Z"
    }
   },
   "id": "146a399bb032a70c",
   "execution_count": null
  },
  {
   "cell_type": "code",
   "outputs": [],
   "source": [
    "\n"
   ],
   "metadata": {
    "collapsed": false,
    "ExecuteTime": {
     "start_time": "2024-09-17T07:35:11.004835300Z"
    }
   },
   "id": "24c8d32b14818ebd",
   "execution_count": null
  },
  {
   "cell_type": "code",
   "outputs": [],
   "source": [],
   "metadata": {
    "collapsed": false,
    "ExecuteTime": {
     "start_time": "2024-09-17T07:35:11.006841700Z"
    }
   },
   "id": "d373d6d5fcfdb565"
  },
  {
   "cell_type": "code",
   "outputs": [],
   "source": [],
   "metadata": {
    "collapsed": false
   },
   "id": "c816b7263962fa85"
  }
 ],
 "metadata": {
  "kernelspec": {
   "display_name": "Python 3",
   "language": "python",
   "name": "python3"
  },
  "language_info": {
   "codemirror_mode": {
    "name": "ipython",
    "version": 2
   },
   "file_extension": ".py",
   "mimetype": "text/x-python",
   "name": "python",
   "nbconvert_exporter": "python",
   "pygments_lexer": "ipython2",
   "version": "2.7.6"
  }
 },
 "nbformat": 4,
 "nbformat_minor": 5
}
